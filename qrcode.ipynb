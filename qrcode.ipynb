{
 "cells": [
  {
   "cell_type": "markdown",
   "metadata": {},
   "source": [
    "## J8"
   ]
  },
  {
   "cell_type": "markdown",
   "metadata": {},
   "source": [
    "### Documentation"
   ]
  },
  {
   "cell_type": "code",
   "execution_count": null,
   "metadata": {},
   "outputs": [],
   "source": [
    "\"\"\"\n",
    "کد پایتون زیر یک برنامه ساده است که یک کد QR را برای یک شبکه Wi-Fi ایجاد می کند. این کد QR را می توان در یک دستگاه موبایل خواند و به سرعت به شبکه Wi-Fi متصل شد.\n",
    "\n",
    "\n",
    "\"\"\""
   ]
  },
  {
   "cell_type": "markdown",
   "metadata": {},
   "source": [
    "### Issue"
   ]
  },
  {
   "cell_type": "code",
   "execution_count": null,
   "metadata": {},
   "outputs": [],
   "source": [
    "\"\"\"\n",
    "اگر کتابخانه qrcode نصب نشده باشد، خطای ImportError رخ خواهد داد.\n",
    "اگر مسیر فعلی برای ذخیره تصویر قابل نوشتن نباشد، خطای IOError رخ خواهد داد.\n",
    "\n",
    "\n",
    "If the qrcode library is not installed, an ImportError will occur.\n",
    "If the current path for saving the image is not writable, an IOError will occur.\n",
    "\"\"\""
   ]
  },
  {
   "cell_type": "markdown",
   "metadata": {},
   "source": [
    "### Solution"
   ]
  },
  {
   "cell_type": "code",
   "execution_count": null,
   "metadata": {},
   "outputs": [],
   "source": [
    "\"\"\"\n",
    "برای نصب کتابخانه qrcode، می توانید از دستور pip در terminal استفاده کنید:\n",
    "`pip install qrcode`\n",
    "\n",
    "مطمئن شوید که مسیر فعلی برای ذخیره تصویر قابل نوشتن است. اگر نیست، می توانید مسیر دیگری را انتخاب کنید که دسترسی نوشتن دارید.\n",
    "\n",
    "\n",
    "To install the qrcode library, you can use the pip command in the terminal:\n",
    "`pip install qrcode`\n",
    "\n",
    "Ensure that the current path for saving the image is writable. If not, you can choose another path where you have write access.\n",
    "\"\"\""
   ]
  },
  {
   "cell_type": "markdown",
   "metadata": {},
   "source": [
    "### Code"
   ]
  },
  {
   "cell_type": "code",
   "execution_count": 2,
   "metadata": {},
   "outputs": [],
   "source": [
    "import qrcode as qr"
   ]
  },
  {
   "cell_type": "code",
   "execution_count": 5,
   "metadata": {},
   "outputs": [],
   "source": [
    "img = qr.make(\"WIFI:S:wifiname;T:WPA2;P:password;\")"
   ]
  },
  {
   "cell_type": "code",
   "execution_count": 6,
   "metadata": {},
   "outputs": [],
   "source": [
    "# کد QR ایجاد شده را به عنوان یک تصویر ذخیره می کنیم\n",
    "img.save('test1.png')"
   ]
  }
 ],
 "metadata": {
  "kernelspec": {
   "display_name": "Python 3.8.8 64-bit",
   "language": "python",
   "name": "python3"
  },
  "language_info": {
   "codemirror_mode": {
    "name": "ipython",
    "version": 3
   },
   "file_extension": ".py",
   "mimetype": "text/x-python",
   "name": "python",
   "nbconvert_exporter": "python",
   "pygments_lexer": "ipython3",
   "version": "3.8.8"
  },
  "orig_nbformat": 4,
  "vscode": {
   "interpreter": {
    "hash": "570feb405e2e27c949193ac68f46852414290d515b0ba6e5d90d076ed2284471"
   }
  }
 },
 "nbformat": 4,
 "nbformat_minor": 2
}
